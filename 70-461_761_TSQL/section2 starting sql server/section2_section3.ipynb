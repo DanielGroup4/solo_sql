{
 "cells": [
  {
   "cell_type": "markdown",
   "metadata": {},
   "source": [
    "# <center>Using SQLite for a data warehouse</center>\n",
    "\n",
    "##### Author:  Bryan Cafferky  - For Demonstration Purposes Only\n",
    "\n",
    "##### Not intended for production use. "
   ]
  },
  {
   "cell_type": "markdown",
   "metadata": {},
   "source": [
    "##### Documentation at: https://docs.python.org/3/library/sqlite3.html"
   ]
  },
  {
   "cell_type": "markdown",
   "metadata": {},
   "source": [
    "---"
   ]
  },
  {
   "cell_type": "markdown",
   "metadata": {},
   "source": [
    "##### Create or Point to Our SQLite database..."
   ]
  },
  {
   "cell_type": "markdown",
   "metadata": {},
   "source": [
    "##### 1)  Load the SQLite package..."
   ]
  },
  {
   "cell_type": "code",
   "execution_count": 1,
   "metadata": {},
   "outputs": [
    {
     "name": "stdout",
     "output_type": "stream",
     "text": [
      "2.6.0\n",
      "3.37.2\n"
     ]
    }
   ],
   "source": [
    "import sqlite3\n",
    "\n",
    "print(sqlite3.version)\n",
    "print(sqlite3.sqlite_version)"
   ]
  },
  {
   "cell_type": "markdown",
   "metadata": {},
   "source": [
    "##### 2) Connect to the database.  "
   ]
  },
  {
   "cell_type": "code",
   "execution_count": 3,
   "metadata": {},
   "outputs": [],
   "source": [
    "slconn = sqlite3.connect('aw_eda.db') # permanent database"
   ]
  },
  {
   "cell_type": "code",
   "execution_count": 4,
   "metadata": {},
   "outputs": [
    {
     "name": "stdout",
     "output_type": "stream",
     "text": [
      "<sqlite3.Connection object at 0x0000023A16593E40>\n"
     ]
    }
   ],
   "source": [
    "print(slconn)"
   ]
  },
  {
   "cell_type": "markdown",
   "metadata": {},
   "source": [
    "### 3)  Create a cursor to execute statements to SQLite."
   ]
  },
  {
   "cell_type": "code",
   "execution_count": 5,
   "metadata": {},
   "outputs": [],
   "source": [
    "cursor = slconn.cursor()"
   ]
  },
  {
   "cell_type": "code",
   "execution_count": 6,
   "metadata": {},
   "outputs": [
    {
     "data": {
      "text/plain": [
       "<sqlite3.Cursor at 0x23a167a4880>"
      ]
     },
     "execution_count": 6,
     "metadata": {},
     "output_type": "execute_result"
    }
   ],
   "source": [
    "cursor"
   ]
  },
  {
   "cell_type": "markdown",
   "metadata": {},
   "source": [
    "---"
   ]
  },
  {
   "cell_type": "markdown",
   "metadata": {},
   "source": [
    "#### Get Data from database management systems...\n",
    "#### Obtener datos de los sistemas de gestión de bases de datos..."
   ]
  },
  {
   "cell_type": "markdown",
   "metadata": {},
   "source": [
    "#### Load our simple SQLDB class from dbutils module...\n",
    "#### Cargue nuestra clase SQLDB simple desde el módulo dbutils..."
   ]
  },
  {
   "cell_type": "code",
   "execution_count": 3,
   "metadata": {},
   "outputs": [],
   "source": [
    "from dbutils.dbaccess import SQLDB"
   ]
  },
  {
   "cell_type": "markdown",
   "metadata": {},
   "source": [
    "#### Define the SQL Server name...\n",
    "#### Defina el nombre del servidor SQL..."
   ]
  },
  {
   "cell_type": "code",
   "execution_count": 4,
   "metadata": {},
   "outputs": [],
   "source": [
    "sqlservername = 'DESKTOP-7LGLS0T' # este es el nombre de mi servidor"
   ]
  },
  {
   "cell_type": "markdown",
   "metadata": {},
   "source": [
    "**Create a SQL query to execute...**\n",
    "\n",
    "**Crear una consulta SQL para ejecutar...**"
   ]
  },
  {
   "cell_type": "markdown",
   "metadata": {},
   "source": [
    "**Create the SQLDB object pointing to the SQL Server...**\n",
    "\n",
    "**Cree el objeto SQLDB que apunta al servidor SQL...**"
   ]
  },
  {
   "cell_type": "markdown",
   "metadata": {},
   "source": [
    "**We only need to override the constructor parameters that differ from what we need.**\n",
    "\n",
    "**Below we use the default of integrated security.**\n",
    "\n",
    "**Parameters: Server, Integrated Security (True/False), Driver, Database**\n",
    "\n",
    "---\n",
    "**Solo necesitamos anular los parámetros del constructor que difieren de lo que necesitamos.**\n",
    "\n",
    "**A continuación usamos el valor predeterminado de seguridad integrada.**\n",
    "\n",
    "**Parámetros: servidor, seguridad integrada (verdadero/falso), controlador, base de datos**"
   ]
  },
  {
   "cell_type": "code",
   "execution_count": 5,
   "metadata": {},
   "outputs": [],
   "source": [
    "# 1er parametro = nombre del servidor, 2do paranetro = True, 3er parametro = nombre del driver, 4to parametro = nombre de base de datos\n",
    "# dentro de la variable aw_sql_is se crea la instancia u objeto de la clase SQLDB\n",
    "\n",
    "aw_sql_is = SQLDB(sqlservername, True, '{SQL Server}', '70-461')\n",
    "\n",
    "# este driver no funciono: ODBC Driver 13 for SQL Server\n"
   ]
  },
  {
   "cell_type": "markdown",
   "metadata": {},
   "source": [
    "**Once the SQLDB object is created, you can run queries with just the SQL statement.**\n",
    "\n",
    "**It stores the connection string information in the object instance.** \n",
    "\n",
    "**Una vez que se crea el objeto SQLDB, puede ejecutar consultas solo con la instrucción SQL.**\n",
    "\n",
    "**Almacena la información de la cadena de conexión en la instancia del objeto.**"
   ]
  },
  {
   "cell_type": "markdown",
   "metadata": {},
   "source": [
    "##### Directly run the query..."
   ]
  },
  {
   "cell_type": "markdown",
   "metadata": {},
   "source": [
    "---"
   ]
  },
  {
   "cell_type": "markdown",
   "metadata": {},
   "source": [
    "##### Section 2 : Starting SQL Server"
   ]
  },
  {
   "cell_type": "code",
   "execution_count": 7,
   "metadata": {},
   "outputs": [
    {
     "name": "stderr",
     "output_type": "stream",
     "text": [
      "c:\\Users\\jslvv\\AppData\\Local\\Programs\\Python\\Python39\\lib\\site-packages\\pandas\\io\\sql.py:761: UserWarning: pandas only support SQLAlchemy connectable(engine/connection) ordatabase string URI or sqlite3 DBAPI2 connectionother DBAPI2 objects are not tested, please consider using SQLAlchemy\n",
      "  warnings.warn(\n"
     ]
    },
    {
     "data": {
      "text/html": [
       "<div>\n",
       "<style scoped>\n",
       "    .dataframe tbody tr th:only-of-type {\n",
       "        vertical-align: middle;\n",
       "    }\n",
       "\n",
       "    .dataframe tbody tr th {\n",
       "        vertical-align: top;\n",
       "    }\n",
       "\n",
       "    .dataframe thead th {\n",
       "        text-align: right;\n",
       "    }\n",
       "</style>\n",
       "<table border=\"1\" class=\"dataframe\">\n",
       "  <thead>\n",
       "    <tr style=\"text-align: right;\">\n",
       "      <th></th>\n",
       "      <th>Result</th>\n",
       "    </tr>\n",
       "  </thead>\n",
       "  <tbody>\n",
       "    <tr>\n",
       "      <th>0</th>\n",
       "      <td>2</td>\n",
       "    </tr>\n",
       "  </tbody>\n",
       "</table>\n",
       "</div>"
      ],
      "text/plain": [
       "   Result\n",
       "0       2"
      ]
     },
     "execution_count": 7,
     "metadata": {},
     "output_type": "execute_result"
    }
   ],
   "source": [
    "# se usa la funcion o metodo get_db_data creada dentro de la clase SQLDB creado como un Modulo\n",
    "\n",
    "aw_sql_is.get_db_data('SELECT 1 + 1 AS Result')\n"
   ]
  },
  {
   "cell_type": "markdown",
   "metadata": {},
   "source": [
    "---"
   ]
  },
  {
   "cell_type": "markdown",
   "metadata": {},
   "source": [
    "##### Section 3 : Creating Tables - First pass"
   ]
  },
  {
   "cell_type": "code",
   "execution_count": null,
   "metadata": {},
   "outputs": [],
   "source": []
  },
  {
   "cell_type": "markdown",
   "metadata": {},
   "source": [
    "---"
   ]
  },
  {
   "cell_type": "markdown",
   "metadata": {},
   "source": [
    "##### Or store the query results to a dataframe..."
   ]
  },
  {
   "cell_type": "code",
   "execution_count": 49,
   "metadata": {},
   "outputs": [
    {
     "data": {
      "text/html": [
       "<div>\n",
       "<style scoped>\n",
       "    .dataframe tbody tr th:only-of-type {\n",
       "        vertical-align: middle;\n",
       "    }\n",
       "\n",
       "    .dataframe tbody tr th {\n",
       "        vertical-align: top;\n",
       "    }\n",
       "\n",
       "    .dataframe thead th {\n",
       "        text-align: right;\n",
       "    }\n",
       "</style>\n",
       "<table border=\"1\" class=\"dataframe\">\n",
       "  <thead>\n",
       "    <tr style=\"text-align: right;\">\n",
       "      <th></th>\n",
       "      <th>BusinessEntityID</th>\n",
       "      <th>Name</th>\n",
       "      <th>SalesPersonID</th>\n",
       "      <th>Demographics</th>\n",
       "      <th>rowguid</th>\n",
       "      <th>ModifiedDate</th>\n",
       "    </tr>\n",
       "  </thead>\n",
       "  <tbody>\n",
       "    <tr>\n",
       "      <th>0</th>\n",
       "      <td>292</td>\n",
       "      <td>Next-Door Bike Store</td>\n",
       "      <td>279</td>\n",
       "      <td>&lt;StoreSurvey xmlns=\"http://schemas.microsoft.c...</td>\n",
       "      <td>A22517E3-848D-4EBE-B9D9-7437F3432304</td>\n",
       "      <td>2014-09-12 11:15:07.497</td>\n",
       "    </tr>\n",
       "    <tr>\n",
       "      <th>1</th>\n",
       "      <td>294</td>\n",
       "      <td>Professional Sales and Service</td>\n",
       "      <td>276</td>\n",
       "      <td>&lt;StoreSurvey xmlns=\"http://schemas.microsoft.c...</td>\n",
       "      <td>B50CA50B-C601-4A13-B07E-2C63862D71B4</td>\n",
       "      <td>2014-09-12 11:15:07.497</td>\n",
       "    </tr>\n",
       "    <tr>\n",
       "      <th>2</th>\n",
       "      <td>296</td>\n",
       "      <td>Riders Company</td>\n",
       "      <td>277</td>\n",
       "      <td>&lt;StoreSurvey xmlns=\"http://schemas.microsoft.c...</td>\n",
       "      <td>337C3688-1339-4E1A-A08A-B54B23566E49</td>\n",
       "      <td>2014-09-12 11:15:07.497</td>\n",
       "    </tr>\n",
       "    <tr>\n",
       "      <th>3</th>\n",
       "      <td>298</td>\n",
       "      <td>The Bike Mechanics</td>\n",
       "      <td>275</td>\n",
       "      <td>&lt;StoreSurvey xmlns=\"http://schemas.microsoft.c...</td>\n",
       "      <td>7894F278-F0C8-4D16-BD75-213FDBF13023</td>\n",
       "      <td>2014-09-12 11:15:07.497</td>\n",
       "    </tr>\n",
       "    <tr>\n",
       "      <th>4</th>\n",
       "      <td>300</td>\n",
       "      <td>Nationwide Supply</td>\n",
       "      <td>286</td>\n",
       "      <td>&lt;StoreSurvey xmlns=\"http://schemas.microsoft.c...</td>\n",
       "      <td>C3FC9705-A8C4-4F3A-9550-EB2FA4B7B64D</td>\n",
       "      <td>2014-09-12 11:15:07.497</td>\n",
       "    </tr>\n",
       "  </tbody>\n",
       "</table>\n",
       "</div>"
      ],
      "text/plain": [
       "   BusinessEntityID                            Name  SalesPersonID  \\\n",
       "0               292            Next-Door Bike Store            279   \n",
       "1               294  Professional Sales and Service            276   \n",
       "2               296                  Riders Company            277   \n",
       "3               298              The Bike Mechanics            275   \n",
       "4               300               Nationwide Supply            286   \n",
       "\n",
       "                                        Demographics  \\\n",
       "0  <StoreSurvey xmlns=\"http://schemas.microsoft.c...   \n",
       "1  <StoreSurvey xmlns=\"http://schemas.microsoft.c...   \n",
       "2  <StoreSurvey xmlns=\"http://schemas.microsoft.c...   \n",
       "3  <StoreSurvey xmlns=\"http://schemas.microsoft.c...   \n",
       "4  <StoreSurvey xmlns=\"http://schemas.microsoft.c...   \n",
       "\n",
       "                                rowguid            ModifiedDate  \n",
       "0  A22517E3-848D-4EBE-B9D9-7437F3432304 2014-09-12 11:15:07.497  \n",
       "1  B50CA50B-C601-4A13-B07E-2C63862D71B4 2014-09-12 11:15:07.497  \n",
       "2  337C3688-1339-4E1A-A08A-B54B23566E49 2014-09-12 11:15:07.497  \n",
       "3  7894F278-F0C8-4D16-BD75-213FDBF13023 2014-09-12 11:15:07.497  \n",
       "4  C3FC9705-A8C4-4F3A-9550-EB2FA4B7B64D 2014-09-12 11:15:07.497  "
      ]
     },
     "execution_count": 49,
     "metadata": {},
     "output_type": "execute_result"
    }
   ],
   "source": [
    "# se usa la funcion o metodo get_db_data creada dentro de la clase SQLDB creado como un Modulo\n",
    "dfproduct = aw_sql_is.get_db_data('SELECT TOP 5 * from Sales.Store')\n",
    "dfproduct.head()"
   ]
  },
  {
   "cell_type": "markdown",
   "metadata": {},
   "source": [
    "#### Create another SQLDB object that uses SQL Server Security."
   ]
  },
  {
   "cell_type": "code",
   "execution_count": 55,
   "metadata": {},
   "outputs": [],
   "source": [
    "aw_sql_sqlsec = SQLDB(sqlservername, \n",
    "                False, '{SQL Server}', \n",
    "                'AdventureWorks2017',  \n",
    "                'Bryan',  # username falso\n",
    "                'bryan')  # password falso"
   ]
  },
  {
   "cell_type": "code",
   "execution_count": 56,
   "metadata": {},
   "outputs": [
    {
     "data": {
      "text/html": [
       "<div>\n",
       "<style scoped>\n",
       "    .dataframe tbody tr th:only-of-type {\n",
       "        vertical-align: middle;\n",
       "    }\n",
       "\n",
       "    .dataframe tbody tr th {\n",
       "        vertical-align: top;\n",
       "    }\n",
       "\n",
       "    .dataframe thead th {\n",
       "        text-align: right;\n",
       "    }\n",
       "</style>\n",
       "<table border=\"1\" class=\"dataframe\">\n",
       "  <thead>\n",
       "    <tr style=\"text-align: right;\">\n",
       "      <th></th>\n",
       "      <th>BusinessEntityID</th>\n",
       "      <th>Name</th>\n",
       "      <th>SalesPersonID</th>\n",
       "      <th>Demographics</th>\n",
       "      <th>rowguid</th>\n",
       "      <th>ModifiedDate</th>\n",
       "    </tr>\n",
       "  </thead>\n",
       "  <tbody>\n",
       "    <tr>\n",
       "      <th>0</th>\n",
       "      <td>292</td>\n",
       "      <td>Next-Door Bike Store</td>\n",
       "      <td>279</td>\n",
       "      <td>&lt;StoreSurvey xmlns=\"http://schemas.microsoft.c...</td>\n",
       "      <td>A22517E3-848D-4EBE-B9D9-7437F3432304</td>\n",
       "      <td>2014-09-12 11:15:07.497</td>\n",
       "    </tr>\n",
       "    <tr>\n",
       "      <th>1</th>\n",
       "      <td>294</td>\n",
       "      <td>Professional Sales and Service</td>\n",
       "      <td>276</td>\n",
       "      <td>&lt;StoreSurvey xmlns=\"http://schemas.microsoft.c...</td>\n",
       "      <td>B50CA50B-C601-4A13-B07E-2C63862D71B4</td>\n",
       "      <td>2014-09-12 11:15:07.497</td>\n",
       "    </tr>\n",
       "  </tbody>\n",
       "</table>\n",
       "</div>"
      ],
      "text/plain": [
       "   BusinessEntityID                            Name  SalesPersonID  \\\n",
       "0               292            Next-Door Bike Store            279   \n",
       "1               294  Professional Sales and Service            276   \n",
       "\n",
       "                                        Demographics  \\\n",
       "0  <StoreSurvey xmlns=\"http://schemas.microsoft.c...   \n",
       "1  <StoreSurvey xmlns=\"http://schemas.microsoft.c...   \n",
       "\n",
       "                                rowguid            ModifiedDate  \n",
       "0  A22517E3-848D-4EBE-B9D9-7437F3432304 2014-09-12 11:15:07.497  \n",
       "1  B50CA50B-C601-4A13-B07E-2C63862D71B4 2014-09-12 11:15:07.497  "
      ]
     },
     "execution_count": 56,
     "metadata": {},
     "output_type": "execute_result"
    }
   ],
   "source": [
    "aw_sql_sqlsec.get_db_data('select top 2 * from Sales.Store').head(3)"
   ]
  },
  {
   "cell_type": "markdown",
   "metadata": {},
   "source": [
    "### We can create a SQLDB object that points to any type of database with an ODBC driver. Below we connect to a PostgreSQL database.\n",
    "\n",
    "### Podemos crear un objeto SQLDB que apunte a cualquier tipo de base de datos con un controlador ODBC. A continuación nos conectamos a una base de datos PostgreSQL."
   ]
  },
  {
   "cell_type": "code",
   "execution_count": 141,
   "metadata": {},
   "outputs": [],
   "source": [
    "aw_postgresdb = SQLDB('localhost', True, '{PostgreSQL Unicode(x64)}', 'dvdrental', 'fulanito', 'fulanito')\n",
    "# driver = PostgreSQL ODBC Driver(UNICODE)\n"
   ]
  },
  {
   "cell_type": "code",
   "execution_count": 142,
   "metadata": {},
   "outputs": [
    {
     "ename": "InterfaceError",
     "evalue": "('IM003', '[IM003] No se puede cargar el controlador especificado debido al error del sistema  126: No se puede encontrar el módulo especificado. (PostgreSQL Unicode(x64), C:\\\\Program Files\\\\Tableau\\\\Drivers\\\\psqlODBC\\\\0906\\\\bin\\\\psqlodbc35w.dll). (160) (SQLDriverConnect)')",
     "output_type": "error",
     "traceback": [
      "\u001b[1;31m---------------------------------------------------------------------------\u001b[0m",
      "\u001b[1;31mInterfaceError\u001b[0m                            Traceback (most recent call last)",
      "\u001b[1;32mC:\\Users\\Public\\Documents\\Wondershare\\CreatorTemp/ipykernel_12112/1400616973.py\u001b[0m in \u001b[0;36m<module>\u001b[1;34m\u001b[0m\n\u001b[1;32m----> 1\u001b[1;33m \u001b[0maw_postgresdb\u001b[0m\u001b[1;33m.\u001b[0m\u001b[0mget_db_data\u001b[0m\u001b[1;33m(\u001b[0m\u001b[1;34m'select * from city limit 10'\u001b[0m\u001b[1;33m)\u001b[0m\u001b[1;33m\u001b[0m\u001b[1;33m\u001b[0m\u001b[0m\n\u001b[0m",
      "\u001b[1;32mc:\\Users\\Dael\\Documents\\1._IT\\2_ALL SQL\\commited\\PythonSQL\\2._PythonSQLDataWarehouse\\Notebook\\dbutils\\dbaccess.py\u001b[0m in \u001b[0;36mget_db_data\u001b[1;34m(self, sqlstatement)\u001b[0m\n\u001b[0;32m     45\u001b[0m         \u001b[1;34m\"\"\"run the query and return results as a dataframe.\"\"\"\u001b[0m\u001b[1;33m\u001b[0m\u001b[1;33m\u001b[0m\u001b[0m\n\u001b[0;32m     46\u001b[0m \u001b[1;33m\u001b[0m\u001b[0m\n\u001b[1;32m---> 47\u001b[1;33m         \u001b[0mconn\u001b[0m \u001b[1;33m=\u001b[0m \u001b[0mpyodbc\u001b[0m\u001b[1;33m.\u001b[0m\u001b[0mconnect\u001b[0m\u001b[1;33m(\u001b[0m\u001b[0mself\u001b[0m\u001b[1;33m.\u001b[0m\u001b[0mconnstring\u001b[0m\u001b[1;33m)\u001b[0m\u001b[1;33m\u001b[0m\u001b[1;33m\u001b[0m\u001b[0m\n\u001b[0m\u001b[0;32m     48\u001b[0m \u001b[1;33m\u001b[0m\u001b[0m\n\u001b[0;32m     49\u001b[0m         \u001b[0mresult\u001b[0m \u001b[1;33m=\u001b[0m \u001b[0mpd\u001b[0m\u001b[1;33m.\u001b[0m\u001b[0mread_sql\u001b[0m\u001b[1;33m(\u001b[0m\u001b[0msqlstatement\u001b[0m\u001b[1;33m,\u001b[0m \u001b[0mconn\u001b[0m\u001b[1;33m)\u001b[0m\u001b[1;33m\u001b[0m\u001b[1;33m\u001b[0m\u001b[0m\n",
      "\u001b[1;31mInterfaceError\u001b[0m: ('IM003', '[IM003] No se puede cargar el controlador especificado debido al error del sistema  126: No se puede encontrar el módulo especificado. (PostgreSQL Unicode(x64), C:\\\\Program Files\\\\Tableau\\\\Drivers\\\\psqlODBC\\\\0906\\\\bin\\\\psqlodbc35w.dll). (160) (SQLDriverConnect)')"
     ]
    }
   ],
   "source": [
    "aw_postgresdb.get_db_data('select * from city limit 10')"
   ]
  },
  {
   "cell_type": "markdown",
   "metadata": {},
   "source": [
    "## Let's extract data from the backend databases, and do some data munging to add value. \n",
    "\n",
    "## Extraigamos los datos de las bases de datos del backend, y hagamos algo de munición de datos para añadir valor."
   ]
  },
  {
   "cell_type": "markdown",
   "metadata": {},
   "source": [
    "## We are building a local data warehouse to persist the data.\n",
    "\n",
    "## Estamos construyendo un almacén de datos local para persistir los datos."
   ]
  },
  {
   "cell_type": "markdown",
   "metadata": {},
   "source": [
    "### Get data from SQL Server...\n",
    "#### Notice:  We are pushing the work to SQL Server and just getting the result.\n",
    "\n",
    "#### Aviso:  Estamos empujando el trabajo a SQL Server y sólo obtenemos el resultado."
   ]
  },
  {
   "cell_type": "code",
   "execution_count": 143,
   "metadata": {},
   "outputs": [],
   "source": [
    "sql = '''\n",
    "SELECT EnglishProductCategoryName as Category,\n",
    "      sc.EnglishProductSubcategoryName as SubCat,\n",
    "      p.EnglishProductName as Product,\n",
    "      SUM(SalesAmount) as SalesAmount\n",
    "FROM dbo.FactInternetSales          s\n",
    "JOIN  dbo.DimProduct                p\n",
    "  on (s.ProductKey = p.ProductKey) \n",
    "JOIN dbo.DimProductSubcategory      sc\n",
    "  ON (p.ProductSubcategoryKey = sc.ProductSubcategoryKey)\n",
    "JOIN dbo.DimProductCategory         pc\n",
    "  ON (sc.ProductCategoryKey = pc.ProductCategoryKey)\n",
    "GROUP BY EnglishProductCategoryName, \n",
    "      EnglishProductSubcategoryName,\n",
    "      EnglishProductName\n",
    "'''"
   ]
  },
  {
   "cell_type": "markdown",
   "metadata": {},
   "source": [
    "### Create another SQLDB Object"
   ]
  },
  {
   "cell_type": "code",
   "execution_count": 145,
   "metadata": {},
   "outputs": [],
   "source": [
    "aw_sql_third = SQLDB(sqlservername, \n",
    "                False, '{SQL Server}', \n",
    "                'AdventureWorksDW2017',  \n",
    "                'Bryan',  # username falso\n",
    "                'bryan')  # password falso"
   ]
  },
  {
   "cell_type": "code",
   "execution_count": 146,
   "metadata": {},
   "outputs": [
    {
     "data": {
      "text/html": [
       "<div>\n",
       "<style scoped>\n",
       "    .dataframe tbody tr th:only-of-type {\n",
       "        vertical-align: middle;\n",
       "    }\n",
       "\n",
       "    .dataframe tbody tr th {\n",
       "        vertical-align: top;\n",
       "    }\n",
       "\n",
       "    .dataframe thead th {\n",
       "        text-align: right;\n",
       "    }\n",
       "</style>\n",
       "<table border=\"1\" class=\"dataframe\">\n",
       "  <thead>\n",
       "    <tr style=\"text-align: right;\">\n",
       "      <th></th>\n",
       "      <th>Category</th>\n",
       "      <th>SubCat</th>\n",
       "      <th>Product</th>\n",
       "      <th>SalesAmount</th>\n",
       "    </tr>\n",
       "  </thead>\n",
       "  <tbody>\n",
       "    <tr>\n",
       "      <th>0</th>\n",
       "      <td>Accessories</td>\n",
       "      <td>Bike Racks</td>\n",
       "      <td>Hitch Rack - 4-Bike</td>\n",
       "      <td>39360.00</td>\n",
       "    </tr>\n",
       "    <tr>\n",
       "      <th>1</th>\n",
       "      <td>Accessories</td>\n",
       "      <td>Bike Stands</td>\n",
       "      <td>All-Purpose Bike Stand</td>\n",
       "      <td>39591.00</td>\n",
       "    </tr>\n",
       "    <tr>\n",
       "      <th>2</th>\n",
       "      <td>Accessories</td>\n",
       "      <td>Bottles and Cages</td>\n",
       "      <td>Mountain Bottle Cage</td>\n",
       "      <td>20229.75</td>\n",
       "    </tr>\n",
       "    <tr>\n",
       "      <th>3</th>\n",
       "      <td>Accessories</td>\n",
       "      <td>Bottles and Cages</td>\n",
       "      <td>Road Bottle Cage</td>\n",
       "      <td>15390.88</td>\n",
       "    </tr>\n",
       "    <tr>\n",
       "      <th>4</th>\n",
       "      <td>Accessories</td>\n",
       "      <td>Bottles and Cages</td>\n",
       "      <td>Water Bottle - 30 oz.</td>\n",
       "      <td>21177.56</td>\n",
       "    </tr>\n",
       "    <tr>\n",
       "      <th>...</th>\n",
       "      <td>...</td>\n",
       "      <td>...</td>\n",
       "      <td>...</td>\n",
       "      <td>...</td>\n",
       "    </tr>\n",
       "    <tr>\n",
       "      <th>125</th>\n",
       "      <td>Clothing</td>\n",
       "      <td>Socks</td>\n",
       "      <td>Racing Socks, L</td>\n",
       "      <td>2427.30</td>\n",
       "    </tr>\n",
       "    <tr>\n",
       "      <th>126</th>\n",
       "      <td>Clothing</td>\n",
       "      <td>Socks</td>\n",
       "      <td>Racing Socks, M</td>\n",
       "      <td>2679.02</td>\n",
       "    </tr>\n",
       "    <tr>\n",
       "      <th>127</th>\n",
       "      <td>Clothing</td>\n",
       "      <td>Vests</td>\n",
       "      <td>Classic Vest, L</td>\n",
       "      <td>12382.50</td>\n",
       "    </tr>\n",
       "    <tr>\n",
       "      <th>128</th>\n",
       "      <td>Clothing</td>\n",
       "      <td>Vests</td>\n",
       "      <td>Classic Vest, M</td>\n",
       "      <td>12636.50</td>\n",
       "    </tr>\n",
       "    <tr>\n",
       "      <th>129</th>\n",
       "      <td>Clothing</td>\n",
       "      <td>Vests</td>\n",
       "      <td>Classic Vest, S</td>\n",
       "      <td>10668.00</td>\n",
       "    </tr>\n",
       "  </tbody>\n",
       "</table>\n",
       "<p>130 rows × 4 columns</p>\n",
       "</div>"
      ],
      "text/plain": [
       "        Category             SubCat                 Product  SalesAmount\n",
       "0    Accessories         Bike Racks     Hitch Rack - 4-Bike     39360.00\n",
       "1    Accessories        Bike Stands  All-Purpose Bike Stand     39591.00\n",
       "2    Accessories  Bottles and Cages    Mountain Bottle Cage     20229.75\n",
       "3    Accessories  Bottles and Cages        Road Bottle Cage     15390.88\n",
       "4    Accessories  Bottles and Cages   Water Bottle - 30 oz.     21177.56\n",
       "..           ...                ...                     ...          ...\n",
       "125     Clothing              Socks         Racing Socks, L      2427.30\n",
       "126     Clothing              Socks         Racing Socks, M      2679.02\n",
       "127     Clothing              Vests         Classic Vest, L     12382.50\n",
       "128     Clothing              Vests         Classic Vest, M     12636.50\n",
       "129     Clothing              Vests         Classic Vest, S     10668.00\n",
       "\n",
       "[130 rows x 4 columns]"
      ]
     },
     "execution_count": 146,
     "metadata": {},
     "output_type": "execute_result"
    }
   ],
   "source": [
    "salessummarydf = aw_sql_third.get_db_data(sql)\n",
    "salessummarydf"
   ]
  },
  {
   "cell_type": "code",
   "execution_count": 147,
   "metadata": {},
   "outputs": [],
   "source": [
    "# Store the results in our SQLite data warehouse\n",
    "\n",
    "# if_exists options are replace, append, \n",
    "salessummarydf.to_sql('internetsalessummary', con=slconn, index=False, if_exists='replace')"
   ]
  },
  {
   "cell_type": "markdown",
   "metadata": {},
   "source": [
    "#### Getting meta data..."
   ]
  },
  {
   "cell_type": "code",
   "execution_count": 148,
   "metadata": {},
   "outputs": [
    {
     "data": {
      "text/plain": [
       "Index(['Category', 'SubCat', 'Product', 'SalesAmount'], dtype='object')"
      ]
     },
     "execution_count": 148,
     "metadata": {},
     "output_type": "execute_result"
    }
   ],
   "source": [
    "salessummarydf.columns "
   ]
  },
  {
   "cell_type": "code",
   "execution_count": 149,
   "metadata": {},
   "outputs": [
    {
     "data": {
      "text/plain": [
       "Category        object\n",
       "SubCat          object\n",
       "Product         object\n",
       "SalesAmount    float64\n",
       "dtype: object"
      ]
     },
     "execution_count": 149,
     "metadata": {},
     "output_type": "execute_result"
    }
   ],
   "source": [
    "salessummarydf.dtypes"
   ]
  },
  {
   "cell_type": "code",
   "execution_count": 150,
   "metadata": {},
   "outputs": [
    {
     "data": {
      "text/html": [
       "<div>\n",
       "<style scoped>\n",
       "    .dataframe tbody tr th:only-of-type {\n",
       "        vertical-align: middle;\n",
       "    }\n",
       "\n",
       "    .dataframe tbody tr th {\n",
       "        vertical-align: top;\n",
       "    }\n",
       "\n",
       "    .dataframe thead th {\n",
       "        text-align: right;\n",
       "    }\n",
       "</style>\n",
       "<table border=\"1\" class=\"dataframe\">\n",
       "  <thead>\n",
       "    <tr style=\"text-align: right;\">\n",
       "      <th></th>\n",
       "      <th>cid</th>\n",
       "      <th>name</th>\n",
       "      <th>type</th>\n",
       "      <th>notnull</th>\n",
       "      <th>dflt_value</th>\n",
       "      <th>pk</th>\n",
       "    </tr>\n",
       "  </thead>\n",
       "  <tbody>\n",
       "    <tr>\n",
       "      <th>0</th>\n",
       "      <td>0</td>\n",
       "      <td>Category</td>\n",
       "      <td>TEXT</td>\n",
       "      <td>0</td>\n",
       "      <td>None</td>\n",
       "      <td>0</td>\n",
       "    </tr>\n",
       "    <tr>\n",
       "      <th>1</th>\n",
       "      <td>1</td>\n",
       "      <td>SubCat</td>\n",
       "      <td>TEXT</td>\n",
       "      <td>0</td>\n",
       "      <td>None</td>\n",
       "      <td>0</td>\n",
       "    </tr>\n",
       "    <tr>\n",
       "      <th>2</th>\n",
       "      <td>2</td>\n",
       "      <td>Product</td>\n",
       "      <td>TEXT</td>\n",
       "      <td>0</td>\n",
       "      <td>None</td>\n",
       "      <td>0</td>\n",
       "    </tr>\n",
       "    <tr>\n",
       "      <th>3</th>\n",
       "      <td>3</td>\n",
       "      <td>SalesAmount</td>\n",
       "      <td>REAL</td>\n",
       "      <td>0</td>\n",
       "      <td>None</td>\n",
       "      <td>0</td>\n",
       "    </tr>\n",
       "  </tbody>\n",
       "</table>\n",
       "</div>"
      ],
      "text/plain": [
       "   cid         name  type  notnull dflt_value  pk\n",
       "0    0     Category  TEXT        0       None   0\n",
       "1    1       SubCat  TEXT        0       None   0\n",
       "2    2      Product  TEXT        0       None   0\n",
       "3    3  SalesAmount  REAL        0       None   0"
      ]
     },
     "execution_count": 150,
     "metadata": {},
     "output_type": "execute_result"
    }
   ],
   "source": [
    "# Get table schema...\n",
    "import pandas as pd \n",
    "\n",
    "pd.read_sql_query(\"\"\"\n",
    "PRAGMA table_info('internetsalessummary');\n",
    "\"\"\", slconn)"
   ]
  },
  {
   "cell_type": "markdown",
   "metadata": {},
   "source": [
    "### Querying data in SQLite..."
   ]
  },
  {
   "cell_type": "code",
   "execution_count": 151,
   "metadata": {},
   "outputs": [
    {
     "data": {
      "text/html": [
       "<div>\n",
       "<style scoped>\n",
       "    .dataframe tbody tr th:only-of-type {\n",
       "        vertical-align: middle;\n",
       "    }\n",
       "\n",
       "    .dataframe tbody tr th {\n",
       "        vertical-align: top;\n",
       "    }\n",
       "\n",
       "    .dataframe thead th {\n",
       "        text-align: right;\n",
       "    }\n",
       "</style>\n",
       "<table border=\"1\" class=\"dataframe\">\n",
       "  <thead>\n",
       "    <tr style=\"text-align: right;\">\n",
       "      <th></th>\n",
       "      <th>Category</th>\n",
       "      <th>SubCat</th>\n",
       "      <th>Product</th>\n",
       "      <th>SalesAmount</th>\n",
       "    </tr>\n",
       "  </thead>\n",
       "  <tbody>\n",
       "    <tr>\n",
       "      <th>0</th>\n",
       "      <td>Accessories</td>\n",
       "      <td>Bike Racks</td>\n",
       "      <td>Hitch Rack - 4-Bike</td>\n",
       "      <td>39360.00</td>\n",
       "    </tr>\n",
       "    <tr>\n",
       "      <th>1</th>\n",
       "      <td>Accessories</td>\n",
       "      <td>Bike Stands</td>\n",
       "      <td>All-Purpose Bike Stand</td>\n",
       "      <td>39591.00</td>\n",
       "    </tr>\n",
       "    <tr>\n",
       "      <th>2</th>\n",
       "      <td>Accessories</td>\n",
       "      <td>Bottles and Cages</td>\n",
       "      <td>Mountain Bottle Cage</td>\n",
       "      <td>20229.75</td>\n",
       "    </tr>\n",
       "    <tr>\n",
       "      <th>3</th>\n",
       "      <td>Accessories</td>\n",
       "      <td>Bottles and Cages</td>\n",
       "      <td>Road Bottle Cage</td>\n",
       "      <td>15390.88</td>\n",
       "    </tr>\n",
       "  </tbody>\n",
       "</table>\n",
       "</div>"
      ],
      "text/plain": [
       "      Category             SubCat                 Product  SalesAmount\n",
       "0  Accessories         Bike Racks     Hitch Rack - 4-Bike     39360.00\n",
       "1  Accessories        Bike Stands  All-Purpose Bike Stand     39591.00\n",
       "2  Accessories  Bottles and Cages    Mountain Bottle Cage     20229.75\n",
       "3  Accessories  Bottles and Cages        Road Bottle Cage     15390.88"
      ]
     },
     "execution_count": 151,
     "metadata": {},
     "output_type": "execute_result"
    }
   ],
   "source": [
    "import sqlite3\n",
    "import pandas as pd\n",
    "\n",
    "pd.read_sql_query(\"SELECT * FROM internetsalessummary\", slconn).head(4)"
   ]
  },
  {
   "cell_type": "code",
   "execution_count": 152,
   "metadata": {},
   "outputs": [
    {
     "data": {
      "text/html": [
       "<div>\n",
       "<style scoped>\n",
       "    .dataframe tbody tr th:only-of-type {\n",
       "        vertical-align: middle;\n",
       "    }\n",
       "\n",
       "    .dataframe tbody tr th {\n",
       "        vertical-align: top;\n",
       "    }\n",
       "\n",
       "    .dataframe thead th {\n",
       "        text-align: right;\n",
       "    }\n",
       "</style>\n",
       "<table border=\"1\" class=\"dataframe\">\n",
       "  <thead>\n",
       "    <tr style=\"text-align: right;\">\n",
       "      <th></th>\n",
       "      <th>Sales</th>\n",
       "    </tr>\n",
       "    <tr>\n",
       "      <th>Category</th>\n",
       "      <th></th>\n",
       "    </tr>\n",
       "  </thead>\n",
       "  <tbody>\n",
       "    <tr>\n",
       "      <th>Accessories</th>\n",
       "      <td>700759.96</td>\n",
       "    </tr>\n",
       "    <tr>\n",
       "      <th>Bikes</th>\n",
       "      <td>28318144.65</td>\n",
       "    </tr>\n",
       "    <tr>\n",
       "      <th>Clothing</th>\n",
       "      <td>339772.61</td>\n",
       "    </tr>\n",
       "  </tbody>\n",
       "</table>\n",
       "</div>"
      ],
      "text/plain": [
       "                   Sales\n",
       "Category                \n",
       "Accessories    700759.96\n",
       "Bikes        28318144.65\n",
       "Clothing       339772.61"
      ]
     },
     "execution_count": 152,
     "metadata": {},
     "output_type": "execute_result"
    }
   ],
   "source": [
    "#  Note the round(2) function to elimiate scientific notation in pandas...\n",
    "#  Observe la función round(2) para eliminar la notación científica en pandas...\n",
    "\n",
    "#  index_col=['Category'] to eliminate the df index \n",
    "#  index_col=['Categoría'] para eliminar el índice df\n",
    "\n",
    "pd.read_sql_query('''\n",
    "SELECT Category, sum(SalesAmount) as Sales  \n",
    "FROM internetsalessummary\n",
    "GROUP BY Category''', slconn, index_col=['Category']).round(2)\n"
   ]
  },
  {
   "cell_type": "markdown",
   "metadata": {},
   "source": [
    "### We want to build some dimension tables but let's think about it first...\n",
    "\n",
    "### Queremos construir algunas tablas de dimensiones pero primero pensemos en ello..."
   ]
  },
  {
   "cell_type": "code",
   "execution_count": 153,
   "metadata": {},
   "outputs": [
    {
     "data": {
      "text/html": [
       "<div>\n",
       "<style scoped>\n",
       "    .dataframe tbody tr th:only-of-type {\n",
       "        vertical-align: middle;\n",
       "    }\n",
       "\n",
       "    .dataframe tbody tr th {\n",
       "        vertical-align: top;\n",
       "    }\n",
       "\n",
       "    .dataframe thead th {\n",
       "        text-align: right;\n",
       "    }\n",
       "</style>\n",
       "<table border=\"1\" class=\"dataframe\">\n",
       "  <thead>\n",
       "    <tr style=\"text-align: right;\">\n",
       "      <th></th>\n",
       "      <th>ProductCategoryKey</th>\n",
       "      <th>ProductCategoryAlternateKey</th>\n",
       "      <th>EnglishProductCategoryName</th>\n",
       "      <th>SpanishProductCategoryName</th>\n",
       "      <th>FrenchProductCategoryName</th>\n",
       "    </tr>\n",
       "  </thead>\n",
       "  <tbody>\n",
       "    <tr>\n",
       "      <th>0</th>\n",
       "      <td>1</td>\n",
       "      <td>1</td>\n",
       "      <td>Bikes</td>\n",
       "      <td>Bicicleta</td>\n",
       "      <td>Vélo</td>\n",
       "    </tr>\n",
       "    <tr>\n",
       "      <th>1</th>\n",
       "      <td>2</td>\n",
       "      <td>2</td>\n",
       "      <td>Components</td>\n",
       "      <td>Componente</td>\n",
       "      <td>Composant</td>\n",
       "    </tr>\n",
       "  </tbody>\n",
       "</table>\n",
       "</div>"
      ],
      "text/plain": [
       "   ProductCategoryKey  ProductCategoryAlternateKey EnglishProductCategoryName  \\\n",
       "0                   1                            1                      Bikes   \n",
       "1                   2                            2                 Components   \n",
       "\n",
       "  SpanishProductCategoryName FrenchProductCategoryName  \n",
       "0                  Bicicleta                      Vélo  \n",
       "1                 Componente                 Composant  "
      ]
     },
     "execution_count": 153,
     "metadata": {},
     "output_type": "execute_result"
    }
   ],
   "source": [
    "# We just need to pass in the query string.  The connection properties are already set.\n",
    "# Sólo tenemos que pasar la cadena de consulta.  Las propiedades de conexión ya están establecidas.\n",
    "aw_sql_third.get_db_data('''\n",
    "SELECT * \n",
    "FROM dimproductcategory''').head(2)\n"
   ]
  },
  {
   "cell_type": "code",
   "execution_count": 154,
   "metadata": {},
   "outputs": [
    {
     "data": {
      "text/html": [
       "<div>\n",
       "<style scoped>\n",
       "    .dataframe tbody tr th:only-of-type {\n",
       "        vertical-align: middle;\n",
       "    }\n",
       "\n",
       "    .dataframe tbody tr th {\n",
       "        vertical-align: top;\n",
       "    }\n",
       "\n",
       "    .dataframe thead th {\n",
       "        text-align: right;\n",
       "    }\n",
       "</style>\n",
       "<table border=\"1\" class=\"dataframe\">\n",
       "  <thead>\n",
       "    <tr style=\"text-align: right;\">\n",
       "      <th></th>\n",
       "      <th>ProductKey</th>\n",
       "      <th>ProductSubCategoryKey</th>\n",
       "      <th>Name</th>\n",
       "      <th>Status</th>\n",
       "    </tr>\n",
       "  </thead>\n",
       "  <tbody>\n",
       "    <tr>\n",
       "      <th>0</th>\n",
       "      <td>1</td>\n",
       "      <td>NaN</td>\n",
       "      <td>Adjustable Race</td>\n",
       "      <td>Current</td>\n",
       "    </tr>\n",
       "    <tr>\n",
       "      <th>1</th>\n",
       "      <td>2</td>\n",
       "      <td>NaN</td>\n",
       "      <td>Bearing Ball</td>\n",
       "      <td>Current</td>\n",
       "    </tr>\n",
       "  </tbody>\n",
       "</table>\n",
       "</div>"
      ],
      "text/plain": [
       "   ProductKey  ProductSubCategoryKey             Name   Status\n",
       "0           1                    NaN  Adjustable Race  Current\n",
       "1           2                    NaN     Bearing Ball  Current"
      ]
     },
     "execution_count": 154,
     "metadata": {},
     "output_type": "execute_result"
    }
   ],
   "source": [
    "aw_sql_third.get_db_data('''\n",
    "SELECT ProductKey, ProductSubCategoryKey, EnglishProductName as Name, Status \n",
    "FROM dimproduct''').head(2)"
   ]
  },
  {
   "cell_type": "markdown",
   "metadata": {},
   "source": [
    "### Let's download the Product Dimension tables as a single SQLite table.\n",
    "\n",
    "### Descarguemos las tablas de la dimensión del producto como una única tabla SQLite."
   ]
  },
  {
   "cell_type": "code",
   "execution_count": 155,
   "metadata": {},
   "outputs": [],
   "source": [
    "sql = '''\n",
    "SELECT  \n",
    "    p.ProductKey, s.ProductSubcategoryKey, c.ProductCategoryKey, \n",
    "    EnglishProductCategoryName as Category, \n",
    "    EnglishProductSubcategoryName as Subcategory, ModelName as Model\n",
    "FROM\n",
    "    dimproduct                   p\n",
    "INNER JOIN  \n",
    "    dimproductsubcategory        s\n",
    "ON \n",
    "    (p.ProductSubcategoryKey = s.ProductSubcategoryKey)\n",
    "INNER JOIN \n",
    "    dimproductcategory           c\n",
    "ON \n",
    "    (s.ProductCategoryKey = c.ProductCategoryKey)\n",
    "WHERE \n",
    "    p.Status = 'Current' OR p.Status = 'NULL' \n",
    "'''"
   ]
  },
  {
   "cell_type": "code",
   "execution_count": 157,
   "metadata": {},
   "outputs": [
    {
     "data": {
      "text/html": [
       "<div>\n",
       "<style scoped>\n",
       "    .dataframe tbody tr th:only-of-type {\n",
       "        vertical-align: middle;\n",
       "    }\n",
       "\n",
       "    .dataframe tbody tr th {\n",
       "        vertical-align: top;\n",
       "    }\n",
       "\n",
       "    .dataframe thead th {\n",
       "        text-align: right;\n",
       "    }\n",
       "</style>\n",
       "<table border=\"1\" class=\"dataframe\">\n",
       "  <thead>\n",
       "    <tr style=\"text-align: right;\">\n",
       "      <th></th>\n",
       "      <th>ProductKey</th>\n",
       "      <th>ProductSubcategoryKey</th>\n",
       "      <th>ProductCategoryKey</th>\n",
       "      <th>Category</th>\n",
       "      <th>Subcategory</th>\n",
       "      <th>Model</th>\n",
       "    </tr>\n",
       "  </thead>\n",
       "  <tbody>\n",
       "    <tr>\n",
       "      <th>0</th>\n",
       "      <td>210</td>\n",
       "      <td>14</td>\n",
       "      <td>2</td>\n",
       "      <td>Components</td>\n",
       "      <td>Road Frames</td>\n",
       "      <td>HL Road Frame</td>\n",
       "    </tr>\n",
       "    <tr>\n",
       "      <th>1</th>\n",
       "      <td>211</td>\n",
       "      <td>14</td>\n",
       "      <td>2</td>\n",
       "      <td>Components</td>\n",
       "      <td>Road Frames</td>\n",
       "      <td>HL Road Frame</td>\n",
       "    </tr>\n",
       "    <tr>\n",
       "      <th>2</th>\n",
       "      <td>214</td>\n",
       "      <td>31</td>\n",
       "      <td>4</td>\n",
       "      <td>Accessories</td>\n",
       "      <td>Helmets</td>\n",
       "      <td>Sport-100</td>\n",
       "    </tr>\n",
       "    <tr>\n",
       "      <th>3</th>\n",
       "      <td>217</td>\n",
       "      <td>31</td>\n",
       "      <td>4</td>\n",
       "      <td>Accessories</td>\n",
       "      <td>Helmets</td>\n",
       "      <td>Sport-100</td>\n",
       "    </tr>\n",
       "    <tr>\n",
       "      <th>4</th>\n",
       "      <td>222</td>\n",
       "      <td>31</td>\n",
       "      <td>4</td>\n",
       "      <td>Accessories</td>\n",
       "      <td>Helmets</td>\n",
       "      <td>Sport-100</td>\n",
       "    </tr>\n",
       "    <tr>\n",
       "      <th>...</th>\n",
       "      <td>...</td>\n",
       "      <td>...</td>\n",
       "      <td>...</td>\n",
       "      <td>...</td>\n",
       "      <td>...</td>\n",
       "      <td>...</td>\n",
       "    </tr>\n",
       "    <tr>\n",
       "      <th>192</th>\n",
       "      <td>602</td>\n",
       "      <td>5</td>\n",
       "      <td>2</td>\n",
       "      <td>Components</td>\n",
       "      <td>Bottom Brackets</td>\n",
       "      <td>ML Bottom Bracket</td>\n",
       "    </tr>\n",
       "    <tr>\n",
       "      <th>193</th>\n",
       "      <td>603</td>\n",
       "      <td>5</td>\n",
       "      <td>2</td>\n",
       "      <td>Components</td>\n",
       "      <td>Bottom Brackets</td>\n",
       "      <td>HL Bottom Bracket</td>\n",
       "    </tr>\n",
       "    <tr>\n",
       "      <th>194</th>\n",
       "      <td>604</td>\n",
       "      <td>2</td>\n",
       "      <td>1</td>\n",
       "      <td>Bikes</td>\n",
       "      <td>Road Bikes</td>\n",
       "      <td>Road-750</td>\n",
       "    </tr>\n",
       "    <tr>\n",
       "      <th>195</th>\n",
       "      <td>605</td>\n",
       "      <td>2</td>\n",
       "      <td>1</td>\n",
       "      <td>Bikes</td>\n",
       "      <td>Road Bikes</td>\n",
       "      <td>Road-750</td>\n",
       "    </tr>\n",
       "    <tr>\n",
       "      <th>196</th>\n",
       "      <td>606</td>\n",
       "      <td>2</td>\n",
       "      <td>1</td>\n",
       "      <td>Bikes</td>\n",
       "      <td>Road Bikes</td>\n",
       "      <td>Road-750</td>\n",
       "    </tr>\n",
       "  </tbody>\n",
       "</table>\n",
       "<p>197 rows × 6 columns</p>\n",
       "</div>"
      ],
      "text/plain": [
       "     ProductKey  ProductSubcategoryKey  ProductCategoryKey     Category  \\\n",
       "0           210                     14                   2   Components   \n",
       "1           211                     14                   2   Components   \n",
       "2           214                     31                   4  Accessories   \n",
       "3           217                     31                   4  Accessories   \n",
       "4           222                     31                   4  Accessories   \n",
       "..          ...                    ...                 ...          ...   \n",
       "192         602                      5                   2   Components   \n",
       "193         603                      5                   2   Components   \n",
       "194         604                      2                   1        Bikes   \n",
       "195         605                      2                   1        Bikes   \n",
       "196         606                      2                   1        Bikes   \n",
       "\n",
       "         Subcategory              Model  \n",
       "0        Road Frames      HL Road Frame  \n",
       "1        Road Frames      HL Road Frame  \n",
       "2            Helmets          Sport-100  \n",
       "3            Helmets          Sport-100  \n",
       "4            Helmets          Sport-100  \n",
       "..               ...                ...  \n",
       "192  Bottom Brackets  ML Bottom Bracket  \n",
       "193  Bottom Brackets  HL Bottom Bracket  \n",
       "194       Road Bikes           Road-750  \n",
       "195       Road Bikes           Road-750  \n",
       "196       Road Bikes           Road-750  \n",
       "\n",
       "[197 rows x 6 columns]"
      ]
     },
     "execution_count": 157,
     "metadata": {},
     "output_type": "execute_result"
    }
   ],
   "source": [
    "aw_sql_third.get_db_data(sql)#.head(3)"
   ]
  },
  {
   "cell_type": "markdown",
   "metadata": {},
   "source": [
    "### the to_sql() dataframe method will save the data to our SQLite database.\n",
    "\n",
    "### el método to_sql() dataframe guardará los datos en nuestra base de datos SQLite."
   ]
  },
  {
   "cell_type": "code",
   "execution_count": 158,
   "metadata": {},
   "outputs": [],
   "source": [
    "# if_exists has 3 options: replace, append, fail\n",
    "# if_exists tiene 3 opciones: replace, append, fail\n",
    "\n",
    "aw_sql_third.get_db_data(sql).to_sql('dimproduct', con=slconn, index=False, if_exists='replace')\n"
   ]
  },
  {
   "cell_type": "code",
   "execution_count": 159,
   "metadata": {},
   "outputs": [
    {
     "data": {
      "text/html": [
       "<div>\n",
       "<style scoped>\n",
       "    .dataframe tbody tr th:only-of-type {\n",
       "        vertical-align: middle;\n",
       "    }\n",
       "\n",
       "    .dataframe tbody tr th {\n",
       "        vertical-align: top;\n",
       "    }\n",
       "\n",
       "    .dataframe thead th {\n",
       "        text-align: right;\n",
       "    }\n",
       "</style>\n",
       "<table border=\"1\" class=\"dataframe\">\n",
       "  <thead>\n",
       "    <tr style=\"text-align: right;\">\n",
       "      <th></th>\n",
       "      <th>ProductKey</th>\n",
       "      <th>ProductSubcategoryKey</th>\n",
       "      <th>ProductCategoryKey</th>\n",
       "      <th>Category</th>\n",
       "      <th>Subcategory</th>\n",
       "      <th>Model</th>\n",
       "    </tr>\n",
       "  </thead>\n",
       "  <tbody>\n",
       "    <tr>\n",
       "      <th>0</th>\n",
       "      <td>210</td>\n",
       "      <td>14</td>\n",
       "      <td>2</td>\n",
       "      <td>Components</td>\n",
       "      <td>Road Frames</td>\n",
       "      <td>HL Road Frame</td>\n",
       "    </tr>\n",
       "    <tr>\n",
       "      <th>1</th>\n",
       "      <td>211</td>\n",
       "      <td>14</td>\n",
       "      <td>2</td>\n",
       "      <td>Components</td>\n",
       "      <td>Road Frames</td>\n",
       "      <td>HL Road Frame</td>\n",
       "    </tr>\n",
       "    <tr>\n",
       "      <th>2</th>\n",
       "      <td>214</td>\n",
       "      <td>31</td>\n",
       "      <td>4</td>\n",
       "      <td>Accessories</td>\n",
       "      <td>Helmets</td>\n",
       "      <td>Sport-100</td>\n",
       "    </tr>\n",
       "  </tbody>\n",
       "</table>\n",
       "</div>"
      ],
      "text/plain": [
       "   ProductKey  ProductSubcategoryKey  ProductCategoryKey     Category  \\\n",
       "0         210                     14                   2   Components   \n",
       "1         211                     14                   2   Components   \n",
       "2         214                     31                   4  Accessories   \n",
       "\n",
       "   Subcategory          Model  \n",
       "0  Road Frames  HL Road Frame  \n",
       "1  Road Frames  HL Road Frame  \n",
       "2      Helmets      Sport-100  "
      ]
     },
     "execution_count": 159,
     "metadata": {},
     "output_type": "execute_result"
    }
   ],
   "source": [
    "# Let's confirm the table is there...\n",
    "import sqlite3\n",
    "import pandas as pd\n",
    "\n",
    "pd.read_sql_query(\"SELECT * FROM dimproduct limit 3\", slconn).head(3)"
   ]
  },
  {
   "cell_type": "markdown",
   "metadata": {},
   "source": [
    "### What other data do we want?\n",
    "\n",
    "### ¿Qué otros datos queremos?"
   ]
  },
  {
   "cell_type": "code",
   "execution_count": 160,
   "metadata": {},
   "outputs": [
    {
     "data": {
      "text/html": [
       "<div>\n",
       "<style scoped>\n",
       "    .dataframe tbody tr th:only-of-type {\n",
       "        vertical-align: middle;\n",
       "    }\n",
       "\n",
       "    .dataframe tbody tr th {\n",
       "        vertical-align: top;\n",
       "    }\n",
       "\n",
       "    .dataframe thead th {\n",
       "        text-align: right;\n",
       "    }\n",
       "</style>\n",
       "<table border=\"1\" class=\"dataframe\">\n",
       "  <thead>\n",
       "    <tr style=\"text-align: right;\">\n",
       "      <th></th>\n",
       "      <th>ProductKey</th>\n",
       "      <th>OrderDateKey</th>\n",
       "      <th>DueDateKey</th>\n",
       "      <th>ShipDateKey</th>\n",
       "      <th>CustomerKey</th>\n",
       "      <th>PromotionKey</th>\n",
       "      <th>CurrencyKey</th>\n",
       "      <th>SalesTerritoryKey</th>\n",
       "      <th>SalesOrderNumber</th>\n",
       "      <th>SalesOrderLineNumber</th>\n",
       "      <th>...</th>\n",
       "      <th>ProductStandardCost</th>\n",
       "      <th>TotalProductCost</th>\n",
       "      <th>SalesAmount</th>\n",
       "      <th>TaxAmt</th>\n",
       "      <th>Freight</th>\n",
       "      <th>CarrierTrackingNumber</th>\n",
       "      <th>CustomerPONumber</th>\n",
       "      <th>OrderDate</th>\n",
       "      <th>DueDate</th>\n",
       "      <th>ShipDate</th>\n",
       "    </tr>\n",
       "  </thead>\n",
       "  <tbody>\n",
       "    <tr>\n",
       "      <th>0</th>\n",
       "      <td>310</td>\n",
       "      <td>20101229</td>\n",
       "      <td>20110110</td>\n",
       "      <td>20110105</td>\n",
       "      <td>21768</td>\n",
       "      <td>1</td>\n",
       "      <td>19</td>\n",
       "      <td>6</td>\n",
       "      <td>SO43697</td>\n",
       "      <td>1</td>\n",
       "      <td>...</td>\n",
       "      <td>2171.2942</td>\n",
       "      <td>2171.2942</td>\n",
       "      <td>3578.27</td>\n",
       "      <td>286.2616</td>\n",
       "      <td>89.4568</td>\n",
       "      <td>None</td>\n",
       "      <td>None</td>\n",
       "      <td>2010-12-29</td>\n",
       "      <td>2011-01-10</td>\n",
       "      <td>2011-01-05</td>\n",
       "    </tr>\n",
       "  </tbody>\n",
       "</table>\n",
       "<p>1 rows × 26 columns</p>\n",
       "</div>"
      ],
      "text/plain": [
       "   ProductKey  OrderDateKey  DueDateKey  ShipDateKey  CustomerKey  \\\n",
       "0         310      20101229    20110110     20110105        21768   \n",
       "\n",
       "   PromotionKey  CurrencyKey  SalesTerritoryKey SalesOrderNumber  \\\n",
       "0             1           19                  6          SO43697   \n",
       "\n",
       "   SalesOrderLineNumber  ...  ProductStandardCost  TotalProductCost  \\\n",
       "0                     1  ...            2171.2942         2171.2942   \n",
       "\n",
       "   SalesAmount    TaxAmt  Freight  CarrierTrackingNumber  CustomerPONumber  \\\n",
       "0      3578.27  286.2616  89.4568                   None              None   \n",
       "\n",
       "   OrderDate    DueDate   ShipDate  \n",
       "0 2010-12-29 2011-01-10 2011-01-05  \n",
       "\n",
       "[1 rows x 26 columns]"
      ]
     },
     "execution_count": 160,
     "metadata": {},
     "output_type": "execute_result"
    }
   ],
   "source": [
    "aw_sql_third.get_db_data('''select top 1 * from factinternetsales''')"
   ]
  },
  {
   "cell_type": "code",
   "execution_count": 161,
   "metadata": {},
   "outputs": [],
   "source": [
    "# \\ me permite extender el comando a una linea nueva\n",
    "aw_sql_third.get_db_data('select * from factinternetsales'). \\\n",
    "to_sql('factinternetsales', con=slconn, index=False, if_exists='replace')"
   ]
  },
  {
   "cell_type": "code",
   "execution_count": 162,
   "metadata": {},
   "outputs": [
    {
     "data": {
      "text/html": [
       "<div>\n",
       "<style scoped>\n",
       "    .dataframe tbody tr th:only-of-type {\n",
       "        vertical-align: middle;\n",
       "    }\n",
       "\n",
       "    .dataframe tbody tr th {\n",
       "        vertical-align: top;\n",
       "    }\n",
       "\n",
       "    .dataframe thead th {\n",
       "        text-align: right;\n",
       "    }\n",
       "</style>\n",
       "<table border=\"1\" class=\"dataframe\">\n",
       "  <thead>\n",
       "    <tr style=\"text-align: right;\">\n",
       "      <th></th>\n",
       "      <th>ProductKey</th>\n",
       "      <th>OrderDateKey</th>\n",
       "      <th>DueDateKey</th>\n",
       "      <th>ShipDateKey</th>\n",
       "      <th>CustomerKey</th>\n",
       "      <th>PromotionKey</th>\n",
       "      <th>CurrencyKey</th>\n",
       "      <th>SalesTerritoryKey</th>\n",
       "      <th>SalesOrderNumber</th>\n",
       "      <th>SalesOrderLineNumber</th>\n",
       "      <th>...</th>\n",
       "      <th>ProductStandardCost</th>\n",
       "      <th>TotalProductCost</th>\n",
       "      <th>SalesAmount</th>\n",
       "      <th>TaxAmt</th>\n",
       "      <th>Freight</th>\n",
       "      <th>CarrierTrackingNumber</th>\n",
       "      <th>CustomerPONumber</th>\n",
       "      <th>OrderDate</th>\n",
       "      <th>DueDate</th>\n",
       "      <th>ShipDate</th>\n",
       "    </tr>\n",
       "  </thead>\n",
       "  <tbody>\n",
       "    <tr>\n",
       "      <th>0</th>\n",
       "      <td>310</td>\n",
       "      <td>20101229</td>\n",
       "      <td>20110110</td>\n",
       "      <td>20110105</td>\n",
       "      <td>21768</td>\n",
       "      <td>1</td>\n",
       "      <td>19</td>\n",
       "      <td>6</td>\n",
       "      <td>SO43697</td>\n",
       "      <td>1</td>\n",
       "      <td>...</td>\n",
       "      <td>2171.2942</td>\n",
       "      <td>2171.2942</td>\n",
       "      <td>3578.27</td>\n",
       "      <td>286.2616</td>\n",
       "      <td>89.4568</td>\n",
       "      <td>None</td>\n",
       "      <td>None</td>\n",
       "      <td>2010-12-29 00:00:00</td>\n",
       "      <td>2011-01-10 00:00:00</td>\n",
       "      <td>2011-01-05 00:00:00</td>\n",
       "    </tr>\n",
       "    <tr>\n",
       "      <th>1</th>\n",
       "      <td>346</td>\n",
       "      <td>20101229</td>\n",
       "      <td>20110110</td>\n",
       "      <td>20110105</td>\n",
       "      <td>28389</td>\n",
       "      <td>1</td>\n",
       "      <td>39</td>\n",
       "      <td>7</td>\n",
       "      <td>SO43698</td>\n",
       "      <td>1</td>\n",
       "      <td>...</td>\n",
       "      <td>1912.1544</td>\n",
       "      <td>1912.1544</td>\n",
       "      <td>3399.99</td>\n",
       "      <td>271.9992</td>\n",
       "      <td>84.9998</td>\n",
       "      <td>None</td>\n",
       "      <td>None</td>\n",
       "      <td>2010-12-29 00:00:00</td>\n",
       "      <td>2011-01-10 00:00:00</td>\n",
       "      <td>2011-01-05 00:00:00</td>\n",
       "    </tr>\n",
       "    <tr>\n",
       "      <th>2</th>\n",
       "      <td>346</td>\n",
       "      <td>20101229</td>\n",
       "      <td>20110110</td>\n",
       "      <td>20110105</td>\n",
       "      <td>25863</td>\n",
       "      <td>1</td>\n",
       "      <td>100</td>\n",
       "      <td>1</td>\n",
       "      <td>SO43699</td>\n",
       "      <td>1</td>\n",
       "      <td>...</td>\n",
       "      <td>1912.1544</td>\n",
       "      <td>1912.1544</td>\n",
       "      <td>3399.99</td>\n",
       "      <td>271.9992</td>\n",
       "      <td>84.9998</td>\n",
       "      <td>None</td>\n",
       "      <td>None</td>\n",
       "      <td>2010-12-29 00:00:00</td>\n",
       "      <td>2011-01-10 00:00:00</td>\n",
       "      <td>2011-01-05 00:00:00</td>\n",
       "    </tr>\n",
       "  </tbody>\n",
       "</table>\n",
       "<p>3 rows × 26 columns</p>\n",
       "</div>"
      ],
      "text/plain": [
       "   ProductKey  OrderDateKey  DueDateKey  ShipDateKey  CustomerKey  \\\n",
       "0         310      20101229    20110110     20110105        21768   \n",
       "1         346      20101229    20110110     20110105        28389   \n",
       "2         346      20101229    20110110     20110105        25863   \n",
       "\n",
       "   PromotionKey  CurrencyKey  SalesTerritoryKey SalesOrderNumber  \\\n",
       "0             1           19                  6          SO43697   \n",
       "1             1           39                  7          SO43698   \n",
       "2             1          100                  1          SO43699   \n",
       "\n",
       "   SalesOrderLineNumber  ...  ProductStandardCost  TotalProductCost  \\\n",
       "0                     1  ...            2171.2942         2171.2942   \n",
       "1                     1  ...            1912.1544         1912.1544   \n",
       "2                     1  ...            1912.1544         1912.1544   \n",
       "\n",
       "   SalesAmount    TaxAmt  Freight  CarrierTrackingNumber  CustomerPONumber  \\\n",
       "0      3578.27  286.2616  89.4568                   None              None   \n",
       "1      3399.99  271.9992  84.9998                   None              None   \n",
       "2      3399.99  271.9992  84.9998                   None              None   \n",
       "\n",
       "             OrderDate              DueDate             ShipDate  \n",
       "0  2010-12-29 00:00:00  2011-01-10 00:00:00  2011-01-05 00:00:00  \n",
       "1  2010-12-29 00:00:00  2011-01-10 00:00:00  2011-01-05 00:00:00  \n",
       "2  2010-12-29 00:00:00  2011-01-10 00:00:00  2011-01-05 00:00:00  \n",
       "\n",
       "[3 rows x 26 columns]"
      ]
     },
     "execution_count": 162,
     "metadata": {},
     "output_type": "execute_result"
    }
   ],
   "source": [
    "pd.read_sql_query(\"SELECT * FROM factinternetsales limit 3\", slconn)"
   ]
  },
  {
   "cell_type": "code",
   "execution_count": 163,
   "metadata": {},
   "outputs": [],
   "source": [
    "aw_sql_third.get_db_data('select * from dimcustomer'). \\\n",
    "to_sql('dimcustomer', con=slconn, index=False, if_exists='replace')"
   ]
  },
  {
   "cell_type": "code",
   "execution_count": 165,
   "metadata": {},
   "outputs": [],
   "source": [
    "aw_sql_third.get_db_data('select * from dimdate'). \\\n",
    "to_sql('dimdate', con=slconn, index=False, if_exists='replace')"
   ]
  },
  {
   "cell_type": "markdown",
   "metadata": {},
   "source": [
    "### Create a SQLite view that pulls all the data together...\n",
    "### Crear una vista SQLite que reúna todos los datos...\n",
    "\n",
    "##### Note the 'if not exists' - so you don't get an error on reruns...\n",
    "##### Tenga en cuenta el \"si no existe\" - para que no se produzca un error en las repeticiones..."
   ]
  },
  {
   "cell_type": "code",
   "execution_count": 166,
   "metadata": {},
   "outputs": [],
   "source": [
    "sql = '''\n",
    "CREATE VIEW IF NOT EXISTS v_salesinfo as  \n",
    "SELECT  \n",
    "    OrderDateKey, DueDateKey, s.CustomerKey, SalesTerritoryKey,\n",
    "    SalesAmount, p.*, Gender, YearlyIncome as Salary, OrderQuantity, TotalProductCost, TaxAmt, \n",
    "CASE WHEN \n",
    "    NumberChildrenAtHome > 0 THEN 'Y' \n",
    "    ELSE 'N' \n",
    "    END \n",
    "    as HasChildren, \n",
    "    c.EnglishEducation as Education, \n",
    "    c.CommuteDistance,\n",
    "    c.BirthDate, \n",
    "CAST( ((JulianDay('now')) - JulianDay(BirthDate))/365.2 as int) as Age,\n",
    "d.FiscalYear, d.FiscalQuarter, d.EnglishMonthName as Month, MonthNumberOfYear, d.CalendarYear\n",
    "FROM \n",
    "    factinternetsales          s\n",
    "INNER JOIN \n",
    "    dimcustomer                c\n",
    "ON \n",
    "    (s.CustomerKey = c.CustomerKey)\n",
    "INNER JOIN \n",
    "    dimproduct                 p\n",
    "ON \n",
    "    (s.ProductKey = p.ProductKey)\n",
    "INNER JOIN \n",
    "    dimdate                    d\n",
    "ON \n",
    "    (s.OrderDateKey = d.DateKey);\n",
    "'''"
   ]
  },
  {
   "cell_type": "code",
   "execution_count": 167,
   "metadata": {},
   "outputs": [
    {
     "data": {
      "text/plain": [
       "<sqlite3.Cursor at 0x23a167a4880>"
      ]
     },
     "execution_count": 167,
     "metadata": {},
     "output_type": "execute_result"
    }
   ],
   "source": [
    "# We created the cursor to the SQLite database at the beginning.\n",
    "\n",
    "cursor.execute(sql)"
   ]
  },
  {
   "cell_type": "code",
   "execution_count": 168,
   "metadata": {},
   "outputs": [
    {
     "data": {
      "text/html": [
       "<div>\n",
       "<style scoped>\n",
       "    .dataframe tbody tr th:only-of-type {\n",
       "        vertical-align: middle;\n",
       "    }\n",
       "\n",
       "    .dataframe tbody tr th {\n",
       "        vertical-align: top;\n",
       "    }\n",
       "\n",
       "    .dataframe thead th {\n",
       "        text-align: right;\n",
       "    }\n",
       "</style>\n",
       "<table border=\"1\" class=\"dataframe\">\n",
       "  <thead>\n",
       "    <tr style=\"text-align: right;\">\n",
       "      <th></th>\n",
       "      <th>OrderDateKey</th>\n",
       "      <th>DueDateKey</th>\n",
       "      <th>CustomerKey</th>\n",
       "      <th>SalesTerritoryKey</th>\n",
       "      <th>SalesAmount</th>\n",
       "      <th>ProductKey</th>\n",
       "      <th>ProductSubcategoryKey</th>\n",
       "      <th>ProductCategoryKey</th>\n",
       "      <th>Category</th>\n",
       "      <th>Subcategory</th>\n",
       "      <th>...</th>\n",
       "      <th>HasChildren</th>\n",
       "      <th>Education</th>\n",
       "      <th>CommuteDistance</th>\n",
       "      <th>BirthDate</th>\n",
       "      <th>Age</th>\n",
       "      <th>FiscalYear</th>\n",
       "      <th>FiscalQuarter</th>\n",
       "      <th>Month</th>\n",
       "      <th>MonthNumberOfYear</th>\n",
       "      <th>CalendarYear</th>\n",
       "    </tr>\n",
       "  </thead>\n",
       "  <tbody>\n",
       "    <tr>\n",
       "      <th>0</th>\n",
       "      <td>20121228</td>\n",
       "      <td>20130109</td>\n",
       "      <td>18239</td>\n",
       "      <td>9</td>\n",
       "      <td>2443.35</td>\n",
       "      <td>380</td>\n",
       "      <td>2</td>\n",
       "      <td>1</td>\n",
       "      <td>Bikes</td>\n",
       "      <td>Road Bikes</td>\n",
       "      <td>...</td>\n",
       "      <td>N</td>\n",
       "      <td>Graduate Degree</td>\n",
       "      <td>0-1 Miles</td>\n",
       "      <td>1980-07-19</td>\n",
       "      <td>41</td>\n",
       "      <td>2012</td>\n",
       "      <td>2</td>\n",
       "      <td>December</td>\n",
       "      <td>12</td>\n",
       "      <td>2012</td>\n",
       "    </tr>\n",
       "    <tr>\n",
       "      <th>1</th>\n",
       "      <td>20121228</td>\n",
       "      <td>20130109</td>\n",
       "      <td>18239</td>\n",
       "      <td>9</td>\n",
       "      <td>8.99</td>\n",
       "      <td>479</td>\n",
       "      <td>28</td>\n",
       "      <td>4</td>\n",
       "      <td>Accessories</td>\n",
       "      <td>Bottles and Cages</td>\n",
       "      <td>...</td>\n",
       "      <td>N</td>\n",
       "      <td>Graduate Degree</td>\n",
       "      <td>0-1 Miles</td>\n",
       "      <td>1980-07-19</td>\n",
       "      <td>41</td>\n",
       "      <td>2012</td>\n",
       "      <td>2</td>\n",
       "      <td>December</td>\n",
       "      <td>12</td>\n",
       "      <td>2012</td>\n",
       "    </tr>\n",
       "    <tr>\n",
       "      <th>2</th>\n",
       "      <td>20121228</td>\n",
       "      <td>20130109</td>\n",
       "      <td>27873</td>\n",
       "      <td>9</td>\n",
       "      <td>1214.85</td>\n",
       "      <td>577</td>\n",
       "      <td>3</td>\n",
       "      <td>1</td>\n",
       "      <td>Bikes</td>\n",
       "      <td>Touring Bikes</td>\n",
       "      <td>...</td>\n",
       "      <td>N</td>\n",
       "      <td>Bachelors</td>\n",
       "      <td>0-1 Miles</td>\n",
       "      <td>1983-10-01</td>\n",
       "      <td>38</td>\n",
       "      <td>2012</td>\n",
       "      <td>2</td>\n",
       "      <td>December</td>\n",
       "      <td>12</td>\n",
       "      <td>2012</td>\n",
       "    </tr>\n",
       "  </tbody>\n",
       "</table>\n",
       "<p>3 rows × 26 columns</p>\n",
       "</div>"
      ],
      "text/plain": [
       "   OrderDateKey  DueDateKey  CustomerKey  SalesTerritoryKey  SalesAmount  \\\n",
       "0      20121228    20130109        18239                  9      2443.35   \n",
       "1      20121228    20130109        18239                  9         8.99   \n",
       "2      20121228    20130109        27873                  9      1214.85   \n",
       "\n",
       "   ProductKey  ProductSubcategoryKey  ProductCategoryKey     Category  \\\n",
       "0         380                      2                   1        Bikes   \n",
       "1         479                     28                   4  Accessories   \n",
       "2         577                      3                   1        Bikes   \n",
       "\n",
       "         Subcategory  ... HasChildren        Education  CommuteDistance  \\\n",
       "0         Road Bikes  ...           N  Graduate Degree        0-1 Miles   \n",
       "1  Bottles and Cages  ...           N  Graduate Degree        0-1 Miles   \n",
       "2      Touring Bikes  ...           N        Bachelors        0-1 Miles   \n",
       "\n",
       "    BirthDate  Age  FiscalYear FiscalQuarter     Month MonthNumberOfYear  \\\n",
       "0  1980-07-19   41        2012             2  December                12   \n",
       "1  1980-07-19   41        2012             2  December                12   \n",
       "2  1983-10-01   38        2012             2  December                12   \n",
       "\n",
       "  CalendarYear  \n",
       "0         2012  \n",
       "1         2012  \n",
       "2         2012  \n",
       "\n",
       "[3 rows x 26 columns]"
      ]
     },
     "execution_count": 168,
     "metadata": {},
     "output_type": "execute_result"
    }
   ],
   "source": [
    "pd.read_sql_query('select * from v_salesinfo', slconn).head(3)"
   ]
  },
  {
   "cell_type": "markdown",
   "metadata": {},
   "source": [
    "### Load CSV file into our SQLite database..."
   ]
  },
  {
   "cell_type": "code",
   "execution_count": 169,
   "metadata": {},
   "outputs": [
    {
     "data": {
      "text/html": [
       "<div>\n",
       "<style scoped>\n",
       "    .dataframe tbody tr th:only-of-type {\n",
       "        vertical-align: middle;\n",
       "    }\n",
       "\n",
       "    .dataframe tbody tr th {\n",
       "        vertical-align: top;\n",
       "    }\n",
       "\n",
       "    .dataframe thead th {\n",
       "        text-align: right;\n",
       "    }\n",
       "</style>\n",
       "<table border=\"1\" class=\"dataframe\">\n",
       "  <thead>\n",
       "    <tr style=\"text-align: right;\">\n",
       "      <th></th>\n",
       "      <th>SalesTerritoryKey</th>\n",
       "      <th>SalesTerritoryAlternateKey</th>\n",
       "      <th>SalesTerritoryRegion</th>\n",
       "      <th>SalesTerritoryCountry</th>\n",
       "      <th>SalesTerritoryGroup</th>\n",
       "      <th>SalesTerritoryImage</th>\n",
       "    </tr>\n",
       "  </thead>\n",
       "  <tbody>\n",
       "    <tr>\n",
       "      <th>0</th>\n",
       "      <td>1</td>\n",
       "      <td>1</td>\n",
       "      <td>Northwest</td>\n",
       "      <td>United States</td>\n",
       "      <td>North America</td>\n",
       "      <td>0xFFD8FFE000104A46494600010101004800480000FFDB...</td>\n",
       "    </tr>\n",
       "    <tr>\n",
       "      <th>1</th>\n",
       "      <td>2</td>\n",
       "      <td>2</td>\n",
       "      <td>Northeast</td>\n",
       "      <td>United States</td>\n",
       "      <td>North America</td>\n",
       "      <td>0xFFD8FFE000104A46494600010101004800480000FFDB...</td>\n",
       "    </tr>\n",
       "  </tbody>\n",
       "</table>\n",
       "</div>"
      ],
      "text/plain": [
       "   SalesTerritoryKey  SalesTerritoryAlternateKey SalesTerritoryRegion  \\\n",
       "0                  1                           1            Northwest   \n",
       "1                  2                           2            Northeast   \n",
       "\n",
       "  SalesTerritoryCountry SalesTerritoryGroup  \\\n",
       "0         United States       North America   \n",
       "1         United States       North America   \n",
       "\n",
       "                                 SalesTerritoryImage  \n",
       "0  0xFFD8FFE000104A46494600010101004800480000FFDB...  \n",
       "1  0xFFD8FFE000104A46494600010101004800480000FFDB...  "
      ]
     },
     "execution_count": 169,
     "metadata": {},
     "output_type": "execute_result"
    }
   ],
   "source": [
    "salesterritory = pd.read_csv('.\\data\\dimsalesterritory.csv')  \n",
    "salesterritory.head(2)"
   ]
  },
  {
   "cell_type": "code",
   "execution_count": 170,
   "metadata": {},
   "outputs": [],
   "source": [
    "salesterritory.to_sql('dimsalesterritory', con=slconn, index=False, if_exists='replace')"
   ]
  },
  {
   "cell_type": "code",
   "execution_count": 171,
   "metadata": {},
   "outputs": [],
   "source": [
    "sql = '''\n",
    "SELECT \n",
    "    t.SalesTerritoryCountry, t.SalesTerritoryRegion, SUM(SalesAmount)\n",
    "FROM  \n",
    "    FactInternetSales   s\n",
    "JOIN  \n",
    "    DimSalesTerritory   t\n",
    "ON \n",
    "    (s.SalesTerritoryKey = t.SalesTerritoryKey)\n",
    "GROUP BY \n",
    "    SalesTerritoryCountry, SalesTerritoryRegion\n",
    "ORDER BY\n",
    "    SUM(SalesAmount) DESC\n",
    "'''"
   ]
  },
  {
   "cell_type": "code",
   "execution_count": 172,
   "metadata": {},
   "outputs": [
    {
     "data": {
      "text/html": [
       "<div>\n",
       "<style scoped>\n",
       "    .dataframe tbody tr th:only-of-type {\n",
       "        vertical-align: middle;\n",
       "    }\n",
       "\n",
       "    .dataframe tbody tr th {\n",
       "        vertical-align: top;\n",
       "    }\n",
       "\n",
       "    .dataframe thead th {\n",
       "        text-align: right;\n",
       "    }\n",
       "</style>\n",
       "<table border=\"1\" class=\"dataframe\">\n",
       "  <thead>\n",
       "    <tr style=\"text-align: right;\">\n",
       "      <th></th>\n",
       "      <th>SalesTerritoryRegion</th>\n",
       "      <th>SUM(SalesAmount)</th>\n",
       "    </tr>\n",
       "    <tr>\n",
       "      <th>SalesTerritoryCountry</th>\n",
       "      <th></th>\n",
       "      <th></th>\n",
       "    </tr>\n",
       "  </thead>\n",
       "  <tbody>\n",
       "    <tr>\n",
       "      <th>Australia</th>\n",
       "      <td>Australia</td>\n",
       "      <td>9061000.58</td>\n",
       "    </tr>\n",
       "    <tr>\n",
       "      <th>United States</th>\n",
       "      <td>Southwest</td>\n",
       "      <td>5718150.81</td>\n",
       "    </tr>\n",
       "    <tr>\n",
       "      <th>United States</th>\n",
       "      <td>Northwest</td>\n",
       "      <td>3649866.55</td>\n",
       "    </tr>\n",
       "    <tr>\n",
       "      <th>United Kingdom</th>\n",
       "      <td>United Kingdom</td>\n",
       "      <td>3391712.21</td>\n",
       "    </tr>\n",
       "    <tr>\n",
       "      <th>Germany</th>\n",
       "      <td>Germany</td>\n",
       "      <td>2894312.34</td>\n",
       "    </tr>\n",
       "    <tr>\n",
       "      <th>France</th>\n",
       "      <td>France</td>\n",
       "      <td>2644017.71</td>\n",
       "    </tr>\n",
       "    <tr>\n",
       "      <th>Canada</th>\n",
       "      <td>Canada</td>\n",
       "      <td>1977844.86</td>\n",
       "    </tr>\n",
       "    <tr>\n",
       "      <th>United States</th>\n",
       "      <td>Southeast</td>\n",
       "      <td>12238.85</td>\n",
       "    </tr>\n",
       "    <tr>\n",
       "      <th>United States</th>\n",
       "      <td>Northeast</td>\n",
       "      <td>6532.47</td>\n",
       "    </tr>\n",
       "    <tr>\n",
       "      <th>United States</th>\n",
       "      <td>Central</td>\n",
       "      <td>3000.83</td>\n",
       "    </tr>\n",
       "  </tbody>\n",
       "</table>\n",
       "</div>"
      ],
      "text/plain": [
       "                      SalesTerritoryRegion  SUM(SalesAmount)\n",
       "SalesTerritoryCountry                                       \n",
       "Australia                        Australia        9061000.58\n",
       "United States                    Southwest        5718150.81\n",
       "United States                    Northwest        3649866.55\n",
       "United Kingdom              United Kingdom        3391712.21\n",
       "Germany                            Germany        2894312.34\n",
       "France                              France        2644017.71\n",
       "Canada                              Canada        1977844.86\n",
       "United States                    Southeast          12238.85\n",
       "United States                    Northeast           6532.47\n",
       "United States                      Central           3000.83"
      ]
     },
     "execution_count": 172,
     "metadata": {},
     "output_type": "execute_result"
    }
   ],
   "source": [
    "pd.read_sql_query(sql, slconn, index_col=['SalesTerritoryCountry']).round(2)"
   ]
  },
  {
   "cell_type": "markdown",
   "metadata": {},
   "source": [
    "## Let's bring in some data from a PostgreSQL database...\n",
    "##### This is a retail customer list maintained in a different system and we want to analyze this data."
   ]
  },
  {
   "cell_type": "code",
   "execution_count": 173,
   "metadata": {},
   "outputs": [
    {
     "ename": "InterfaceError",
     "evalue": "('IM003', '[IM003] No se puede cargar el controlador especificado debido al error del sistema  126: No se puede encontrar el módulo especificado. (PostgreSQL Unicode(x64), C:\\\\Program Files\\\\Tableau\\\\Drivers\\\\psqlODBC\\\\0906\\\\bin\\\\psqlodbc35w.dll). (160) (SQLDriverConnect)')",
     "output_type": "error",
     "traceback": [
      "\u001b[1;31m---------------------------------------------------------------------------\u001b[0m",
      "\u001b[1;31mInterfaceError\u001b[0m                            Traceback (most recent call last)",
      "\u001b[1;32mC:\\Users\\Public\\Documents\\Wondershare\\CreatorTemp/ipykernel_12112/4076471782.py\u001b[0m in \u001b[0;36m<module>\u001b[1;34m\u001b[0m\n\u001b[1;32m----> 1\u001b[1;33m \u001b[0mretail_cust_pg_df\u001b[0m \u001b[1;33m=\u001b[0m \u001b[0maw_postgresdb\u001b[0m\u001b[1;33m.\u001b[0m\u001b[0mget_db_data\u001b[0m\u001b[1;33m(\u001b[0m\u001b[1;34m'select * from dimcustomer'\u001b[0m\u001b[1;33m)\u001b[0m\u001b[1;33m\u001b[0m\u001b[1;33m\u001b[0m\u001b[0m\n\u001b[0m",
      "\u001b[1;32mc:\\Users\\Dael\\Documents\\1._IT\\2_ALL SQL\\commited\\PythonSQL\\2._PythonSQLDataWarehouse\\Notebook\\dbutils\\dbaccess.py\u001b[0m in \u001b[0;36mget_db_data\u001b[1;34m(self, sqlstatement)\u001b[0m\n\u001b[0;32m     45\u001b[0m         \u001b[1;34m\"\"\"run the query and return results as a dataframe.\"\"\"\u001b[0m\u001b[1;33m\u001b[0m\u001b[1;33m\u001b[0m\u001b[0m\n\u001b[0;32m     46\u001b[0m \u001b[1;33m\u001b[0m\u001b[0m\n\u001b[1;32m---> 47\u001b[1;33m         \u001b[0mconn\u001b[0m \u001b[1;33m=\u001b[0m \u001b[0mpyodbc\u001b[0m\u001b[1;33m.\u001b[0m\u001b[0mconnect\u001b[0m\u001b[1;33m(\u001b[0m\u001b[0mself\u001b[0m\u001b[1;33m.\u001b[0m\u001b[0mconnstring\u001b[0m\u001b[1;33m)\u001b[0m\u001b[1;33m\u001b[0m\u001b[1;33m\u001b[0m\u001b[0m\n\u001b[0m\u001b[0;32m     48\u001b[0m \u001b[1;33m\u001b[0m\u001b[0m\n\u001b[0;32m     49\u001b[0m         \u001b[0mresult\u001b[0m \u001b[1;33m=\u001b[0m \u001b[0mpd\u001b[0m\u001b[1;33m.\u001b[0m\u001b[0mread_sql\u001b[0m\u001b[1;33m(\u001b[0m\u001b[0msqlstatement\u001b[0m\u001b[1;33m,\u001b[0m \u001b[0mconn\u001b[0m\u001b[1;33m)\u001b[0m\u001b[1;33m\u001b[0m\u001b[1;33m\u001b[0m\u001b[0m\n",
      "\u001b[1;31mInterfaceError\u001b[0m: ('IM003', '[IM003] No se puede cargar el controlador especificado debido al error del sistema  126: No se puede encontrar el módulo especificado. (PostgreSQL Unicode(x64), C:\\\\Program Files\\\\Tableau\\\\Drivers\\\\psqlODBC\\\\0906\\\\bin\\\\psqlodbc35w.dll). (160) (SQLDriverConnect)')"
     ]
    }
   ],
   "source": [
    "retail_cust_pg_df = aw_postgresdb.get_db_data('select * from dimcustomer')"
   ]
  },
  {
   "cell_type": "code",
   "execution_count": 64,
   "metadata": {},
   "outputs": [],
   "source": [
    "retail_cust_pg_df.to_sql('dimretailcustomers', con=slconn, index=False, if_exists='replace')"
   ]
  },
  {
   "cell_type": "code",
   "execution_count": 65,
   "metadata": {},
   "outputs": [
    {
     "data": {
      "text/html": [
       "<div>\n",
       "<style scoped>\n",
       "    .dataframe tbody tr th:only-of-type {\n",
       "        vertical-align: middle;\n",
       "    }\n",
       "\n",
       "    .dataframe tbody tr th {\n",
       "        vertical-align: top;\n",
       "    }\n",
       "\n",
       "    .dataframe thead th {\n",
       "        text-align: right;\n",
       "    }\n",
       "</style>\n",
       "<table border=\"1\" class=\"dataframe\">\n",
       "  <thead>\n",
       "    <tr style=\"text-align: right;\">\n",
       "      <th></th>\n",
       "      <th>CustomerKey</th>\n",
       "      <th>GeographyKey</th>\n",
       "      <th>CustomerAlternateKey</th>\n",
       "      <th>Title</th>\n",
       "      <th>FirstName</th>\n",
       "      <th>MiddleName</th>\n",
       "      <th>LastName</th>\n",
       "      <th>NameStyle</th>\n",
       "      <th>BirthDate</th>\n",
       "      <th>MaritalStatus</th>\n",
       "      <th>...</th>\n",
       "      <th>EnglishOccupation</th>\n",
       "      <th>SpanishOccupation</th>\n",
       "      <th>FrenchOccupation</th>\n",
       "      <th>HouseOwnerFlag</th>\n",
       "      <th>NumberCarsOwned</th>\n",
       "      <th>AddressLine1</th>\n",
       "      <th>AddressLine2</th>\n",
       "      <th>Phone</th>\n",
       "      <th>DateFirstPurchase</th>\n",
       "      <th>CommuteDistance</th>\n",
       "    </tr>\n",
       "  </thead>\n",
       "  <tbody>\n",
       "    <tr>\n",
       "      <th>0</th>\n",
       "      <td>11000</td>\n",
       "      <td>26</td>\n",
       "      <td>AW00011000</td>\n",
       "      <td>None</td>\n",
       "      <td>Jon</td>\n",
       "      <td>V</td>\n",
       "      <td>Yang</td>\n",
       "      <td>0</td>\n",
       "      <td>1971-10-06</td>\n",
       "      <td>M</td>\n",
       "      <td>...</td>\n",
       "      <td>Professional</td>\n",
       "      <td>Profesional</td>\n",
       "      <td>Cadre</td>\n",
       "      <td>1</td>\n",
       "      <td>0</td>\n",
       "      <td>3761 N. 14th St</td>\n",
       "      <td>None</td>\n",
       "      <td>1 (11) 500 555-0162</td>\n",
       "      <td>2011-01-19</td>\n",
       "      <td>1-2 Miles</td>\n",
       "    </tr>\n",
       "    <tr>\n",
       "      <th>1</th>\n",
       "      <td>11001</td>\n",
       "      <td>37</td>\n",
       "      <td>AW00011001</td>\n",
       "      <td>None</td>\n",
       "      <td>Eugene</td>\n",
       "      <td>L</td>\n",
       "      <td>Huang</td>\n",
       "      <td>0</td>\n",
       "      <td>1976-05-10</td>\n",
       "      <td>S</td>\n",
       "      <td>...</td>\n",
       "      <td>Professional</td>\n",
       "      <td>Profesional</td>\n",
       "      <td>Cadre</td>\n",
       "      <td>0</td>\n",
       "      <td>1</td>\n",
       "      <td>2243 W St.</td>\n",
       "      <td>None</td>\n",
       "      <td>1 (11) 500 555-0110</td>\n",
       "      <td>2011-01-15</td>\n",
       "      <td>0-1 Miles</td>\n",
       "    </tr>\n",
       "    <tr>\n",
       "      <th>2</th>\n",
       "      <td>11002</td>\n",
       "      <td>31</td>\n",
       "      <td>AW00011002</td>\n",
       "      <td>None</td>\n",
       "      <td>Ruben</td>\n",
       "      <td>None</td>\n",
       "      <td>Torres</td>\n",
       "      <td>0</td>\n",
       "      <td>1971-02-09</td>\n",
       "      <td>M</td>\n",
       "      <td>...</td>\n",
       "      <td>Professional</td>\n",
       "      <td>Profesional</td>\n",
       "      <td>Cadre</td>\n",
       "      <td>1</td>\n",
       "      <td>1</td>\n",
       "      <td>5844 Linden Land</td>\n",
       "      <td>None</td>\n",
       "      <td>1 (11) 500 555-0184</td>\n",
       "      <td>2011-01-07</td>\n",
       "      <td>2-5 Miles</td>\n",
       "    </tr>\n",
       "  </tbody>\n",
       "</table>\n",
       "<p>3 rows × 29 columns</p>\n",
       "</div>"
      ],
      "text/plain": [
       "   CustomerKey  GeographyKey CustomerAlternateKey Title FirstName MiddleName  \\\n",
       "0        11000            26           AW00011000  None       Jon          V   \n",
       "1        11001            37           AW00011001  None    Eugene          L   \n",
       "2        11002            31           AW00011002  None     Ruben       None   \n",
       "\n",
       "  LastName  NameStyle   BirthDate MaritalStatus  ... EnglishOccupation  \\\n",
       "0     Yang          0  1971-10-06             M  ...      Professional   \n",
       "1    Huang          0  1976-05-10             S  ...      Professional   \n",
       "2   Torres          0  1971-02-09             M  ...      Professional   \n",
       "\n",
       "  SpanishOccupation FrenchOccupation  HouseOwnerFlag  NumberCarsOwned  \\\n",
       "0       Profesional            Cadre               1                0   \n",
       "1       Profesional            Cadre               0                1   \n",
       "2       Profesional            Cadre               1                1   \n",
       "\n",
       "       AddressLine1 AddressLine2                Phone DateFirstPurchase  \\\n",
       "0   3761 N. 14th St         None  1 (11) 500 555-0162        2011-01-19   \n",
       "1        2243 W St.         None  1 (11) 500 555-0110        2011-01-15   \n",
       "2  5844 Linden Land         None  1 (11) 500 555-0184        2011-01-07   \n",
       "\n",
       "  CommuteDistance  \n",
       "0       1-2 Miles  \n",
       "1       0-1 Miles  \n",
       "2       2-5 Miles  \n",
       "\n",
       "[3 rows x 29 columns]"
      ]
     },
     "execution_count": 65,
     "metadata": {},
     "output_type": "execute_result"
    }
   ],
   "source": [
    "pd.read_sql_query('select * from dimretailcustomers limit 3', slconn)"
   ]
  },
  {
   "cell_type": "markdown",
   "metadata": {},
   "source": [
    "## We can drop the table since we are done.\n",
    "\n",
    "## Podemos eliminar la tabla ya que hemos terminado."
   ]
  },
  {
   "cell_type": "code",
   "execution_count": 66,
   "metadata": {},
   "outputs": [
    {
     "data": {
      "text/plain": [
       "[('Accessories', 'Bike Racks', 'Hitch Rack - 4-Bike', 39360.0),\n",
       " ('Accessories', 'Bike Stands', 'All-Purpose Bike Stand', 39591.0),\n",
       " ('Accessories', 'Bottles and Cages', 'Mountain Bottle Cage', 20229.75),\n",
       " ('Accessories', 'Bottles and Cages', 'Road Bottle Cage', 15390.88),\n",
       " ('Accessories', 'Bottles and Cages', 'Water Bottle - 30 oz.', 21177.56)]"
      ]
     },
     "execution_count": 66,
     "metadata": {},
     "output_type": "execute_result"
    }
   ],
   "source": [
    "cursor.execute('''select * from internetsalessummary limit 5;''').fetchall()"
   ]
  },
  {
   "cell_type": "code",
   "execution_count": 67,
   "metadata": {},
   "outputs": [],
   "source": [
    "cursor.execute('''DROP TABLE internetsalessummary''')\n",
    "slconn.commit()"
   ]
  },
  {
   "cell_type": "code",
   "execution_count": 68,
   "metadata": {},
   "outputs": [
    {
     "ename": "OperationalError",
     "evalue": "no such table: internetsalessummary",
     "output_type": "error",
     "traceback": [
      "\u001b[1;31m---------------------------------------------------------------------------\u001b[0m",
      "\u001b[1;31mOperationalError\u001b[0m                          Traceback (most recent call last)",
      "\u001b[1;32m<ipython-input-68-5cb3352eb4e8>\u001b[0m in \u001b[0;36m<module>\u001b[1;34m\u001b[0m\n\u001b[1;32m----> 1\u001b[1;33m \u001b[0mcursor\u001b[0m\u001b[1;33m.\u001b[0m\u001b[0mexecute\u001b[0m\u001b[1;33m(\u001b[0m\u001b[1;34m'''select * from internetsalessummary;'''\u001b[0m\u001b[1;33m)\u001b[0m\u001b[1;33m.\u001b[0m\u001b[0mfetchall\u001b[0m\u001b[1;33m(\u001b[0m\u001b[1;33m)\u001b[0m\u001b[1;33m\u001b[0m\u001b[1;33m\u001b[0m\u001b[0m\n\u001b[0m",
      "\u001b[1;31mOperationalError\u001b[0m: no such table: internetsalessummary"
     ]
    }
   ],
   "source": [
    "cursor.execute('''select * from internetsalessummary;''').fetchall()"
   ]
  },
  {
   "cell_type": "markdown",
   "metadata": {},
   "source": [
    "# Let's close the connection. "
   ]
  },
  {
   "cell_type": "code",
   "execution_count": 69,
   "metadata": {},
   "outputs": [],
   "source": [
    "cursor.close()\n",
    "slconn.close()"
   ]
  }
 ],
 "metadata": {
  "kernelspec": {
   "display_name": "Python 3.9.12 64-bit",
   "language": "python",
   "name": "python3"
  },
  "language_info": {
   "codemirror_mode": {
    "name": "ipython",
    "version": 3
   },
   "file_extension": ".py",
   "mimetype": "text/x-python",
   "name": "python",
   "nbconvert_exporter": "python",
   "pygments_lexer": "ipython3",
   "version": "3.9.12"
  },
  "vscode": {
   "interpreter": {
    "hash": "83f7819564424dbb20579ef60fd12f583249066695f314690fe13c3f66b3513f"
   }
  }
 },
 "nbformat": 4,
 "nbformat_minor": 2
}
